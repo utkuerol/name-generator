{
 "cells": [
  {
   "cell_type": "code",
   "execution_count": 55,
   "metadata": {},
   "outputs": [
    {
     "name": "stderr",
     "output_type": "stream",
     "text": [
      "/var/folders/r3/jwctyx8d0j901yv_rd4__58r0000gn/T/ipykernel_58439/3056861716.py:61: SettingWithCopyWarning: \n",
      "A value is trying to be set on a copy of a slice from a DataFrame.\n",
      "Try using .loc[row_indexer,col_indexer] = value instead\n",
      "\n",
      "See the caveats in the documentation: https://pandas.pydata.org/pandas-docs/stable/user_guide/indexing.html#returning-a-view-versus-a-copy\n",
      "  selected[\"origin\"] = o\n",
      "/var/folders/r3/jwctyx8d0j901yv_rd4__58r0000gn/T/ipykernel_58439/3056861716.py:62: FutureWarning: In a future version of pandas all arguments of DataFrame.drop except for the argument 'labels' will be keyword-only\n",
      "  selected = selected.drop(\"code\", 1)\n"
     ]
    },
    {
     "name": "stdout",
     "output_type": "stream",
     "text": [
      "445042\n",
      "431904\n"
     ]
    }
   ],
   "source": [
    "import pandas as pd \n",
    "import unicodedata\n",
    "import string\n",
    "import langid\n",
    "\n",
    "all_letters = list(string.ascii_letters + \" .,;'\")\n",
    "all_letters += ['<SOS>', '<EOS>']\n",
    "\n",
    "def to_ascii(s):\n",
    "    return ''.join(\n",
    "        c for c in unicodedata.normalize('NFD', s)\n",
    "        if unicodedata.category(c) != 'Mn'\n",
    "        and c in all_letters\n",
    "    )\n",
    "\n",
    "\n",
    "def is_eng(s):\n",
    "    if s[\"origin\"] == \"English\":\n",
    "        if langid.classify(s[\"name\"])[0] == \"en\": \n",
    "            return s\n",
    "        else:\n",
    "            s[\"name\"] = \"\"\n",
    "            return s\n",
    "    else:\n",
    "        return s\n",
    "\n",
    "\n",
    "file = open(\"data/names/names.csv\", encoding=\"utf-8\")\n",
    "df = pd.read_csv(file)\n",
    "df = df.iloc[:, [0, 1, 2]]\n",
    "df[\"name\"] = df[\"name\"].transform(lambda x: to_ascii(str(x)))\n",
    "df[\"name\"] = df[\"name\"].transform(lambda x: x.title())\n",
    "df = df.dropna()\n",
    "df = df.drop_duplicates()\n",
    "df = df[(df.name != \"\")]\n",
    "df = df[(df.code != \"\")]\n",
    "df = df[(df.gender != \"\")]\n",
    "df = df[(df.gender != \"?\")]\n",
    "\n",
    "origins = {\n",
    "    \"English\": [\"GB\"], \n",
    "    \"Greek\": [\"GR\"],\n",
    "    \"Germanic\": [\"DE\", \"AT\", \"SE\", \"NL\", \"NO\", \"BE\", \"DK\"],\n",
    "    \"East-Asian\": [\"CN\", \"KP\", \"VN\", \"JP\"],\n",
    "    \"Turkic\": [\"TR\"],\n",
    "    \"Hispanic\": [\"ES\", \"PT\", \"MX\", \"BR\"],\n",
    "    \"Slavic\": [\"CZ\", \"UA\", \"RU\"],\n",
    "    \"French\": [\"FR\"],\n",
    "    \"Italian\": [\"IT\"],\n",
    "    \"Arabic\": [\"SA\", \"EG\", \"MA\", \"SY\", \"JO\"],\n",
    "    \"Hebrew\": [\"IL\"],\n",
    "    \"Japanese\": [\"JP\"],\n",
    "    \"German\": [\"DE\", \"AT\"],\n",
    "    \"Scandinavian\": [\"SE\", \"NO\", \"DK\"]\n",
    "}\n",
    "\n",
    "new_df = pd.DataFrame(columns=[\"name\", \"origin\", \"gender\"])\n",
    "\n",
    "for o in origins:\n",
    "    selected = df[(df.code.isin(origins[o]))]\n",
    "    selected[\"origin\"] = o \n",
    "    selected = selected.drop(\"code\", 1)\n",
    "    oversample_factor = int(len(df[(df.code.isin(origins[\"English\"]))]) / len(selected))\n",
    "    for _ in range(oversample_factor):\n",
    "        new_df = new_df.append(selected)\n",
    "    # print(\"Sample size for \" + o + \" is: \" + str(len(new_df[new_df.origin == o])))\n",
    "\n",
    "\n",
    "print(len(new_df))\n",
    "new_df = new_df.apply(is_eng, 1)\n",
    "new_df = new_df[(new_df.name != \"\")]\n",
    "print(len(new_df))\n",
    "\n",
    "new_df = new_df.sample(n=50000)\n"
   ]
  }
 ],
 "metadata": {
  "interpreter": {
   "hash": "6e79f4fdad415458b7ed52ba841f0bdaf70ed7f8d5b48b56eb736fa01e234f19"
  },
  "kernelspec": {
   "display_name": "Python 3.8.12 64-bit ('nlp': conda)",
   "language": "python",
   "name": "python3"
  },
  "language_info": {
   "codemirror_mode": {
    "name": "ipython",
    "version": 3
   },
   "file_extension": ".py",
   "mimetype": "text/x-python",
   "name": "python",
   "nbconvert_exporter": "python",
   "pygments_lexer": "ipython3",
   "version": "3.8.12"
  },
  "orig_nbformat": 4
 },
 "nbformat": 4,
 "nbformat_minor": 2
}
